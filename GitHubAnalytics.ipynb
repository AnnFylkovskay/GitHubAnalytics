{
 "cells": [
  {
   "cell_type": "code",
   "execution_count": 27,
   "id": "420112ac",
   "metadata": {},
   "outputs": [],
   "source": [
    "import json\n",
    "import requests\n"
   ]
  },
  {
   "cell_type": "code",
   "execution_count": 28,
   "id": "c53c4053",
   "metadata": {},
   "outputs": [],
   "source": [
    "url = \"https://api.github.com/repos/MNYudina/Seminars/stargazers\"\n",
    "response = requests.get(url)"
   ]
  },
  {
   "cell_type": "code",
   "execution_count": 29,
   "id": "bb4ca1ad",
   "metadata": {},
   "outputs": [
    {
     "name": "stdout",
     "output_type": "stream",
     "text": [
      "{\n",
      " \"login\": \"yudinev\",\n",
      " \"id\": 1909006,\n",
      " \"node_id\": \"MDQ6VXNlcjE5MDkwMDY=\",\n",
      " \"avatar_url\": \"https://avatars.githubusercontent.com/u/1909006?v=4\",\n",
      " \"gravatar_id\": \"\",\n",
      " \"url\": \"https://api.github.com/users/yudinev\",\n",
      " \"html_url\": \"https://github.com/yudinev\",\n",
      " \"followers_url\": \"https://api.github.com/users/yudinev/followers\",\n",
      " \"following_url\": \"https://api.github.com/users/yudinev/following{/other_user}\",\n",
      " \"gists_url\": \"https://api.github.com/users/yudinev/gists{/gist_id}\",\n",
      " \"starred_url\": \"https://api.github.com/users/yudinev/starred{/owner}{/repo}\",\n",
      " \"subscriptions_url\": \"https://api.github.com/users/yudinev/subscriptions\",\n",
      " \"organizations_url\": \"https://api.github.com/users/yudinev/orgs\",\n",
      " \"repos_url\": \"https://api.github.com/users/yudinev/repos\",\n",
      " \"events_url\": \"https://api.github.com/users/yudinev/events{/privacy}\",\n",
      " \"received_events_url\": \"https://api.github.com/users/yudinev/received_events\",\n",
      " \"type\": \"User\",\n",
      " \"site_admin\": false\n",
      "}\n",
      "\n"
     ]
    }
   ],
   "source": [
    "print(json.dumps(response.json()[0], indent=1))\n",
    "print()"
   ]
  },
  {
   "cell_type": "code",
   "execution_count": 30,
   "id": "d575149e",
   "metadata": {},
   "outputs": [
    {
     "name": "stdout",
     "output_type": "stream",
     "text": [
      "Server => GitHub.com\n",
      "Date => Sat, 08 Oct 2022 15:21:27 GMT\n",
      "Content-Type => application/json; charset=utf-8\n",
      "Cache-Control => public, max-age=60, s-maxage=60\n",
      "Vary => Accept, Accept-Encoding, Accept, X-Requested-With\n",
      "ETag => W/\"711310da01f24e8e3491d7cf1005f28d1ee000623a8f33e2d9fb01372312e96f\"\n",
      "X-GitHub-Media-Type => github.v3; format=json\n",
      "Access-Control-Expose-Headers => ETag, Link, Location, Retry-After, X-GitHub-OTP, X-RateLimit-Limit, X-RateLimit-Remaining, X-RateLimit-Used, X-RateLimit-Resource, X-RateLimit-Reset, X-OAuth-Scopes, X-Accepted-OAuth-Scopes, X-Poll-Interval, X-GitHub-Media-Type, X-GitHub-SSO, X-GitHub-Request-Id, Deprecation, Sunset\n",
      "Access-Control-Allow-Origin => *\n",
      "Strict-Transport-Security => max-age=31536000; includeSubdomains; preload\n",
      "X-Frame-Options => deny\n",
      "X-Content-Type-Options => nosniff\n",
      "X-XSS-Protection => 0\n",
      "Referrer-Policy => origin-when-cross-origin, strict-origin-when-cross-origin\n",
      "Content-Security-Policy => default-src 'none'\n",
      "Content-Encoding => gzip\n",
      "X-RateLimit-Limit => 60\n",
      "X-RateLimit-Remaining => 58\n",
      "X-RateLimit-Reset => 1665245973\n",
      "X-RateLimit-Resource => core\n",
      "X-RateLimit-Used => 2\n",
      "Accept-Ranges => bytes\n",
      "Content-Length => 746\n",
      "X-GitHub-Request-Id => EB91:DEAC:5BBD44:5D1B42:63419577\n"
     ]
    }
   ],
   "source": [
    "for (k,v) in response.headers.items():\n",
    " print(k, \"=>\", v)"
   ]
  },
  {
   "cell_type": "code",
   "execution_count": null,
   "id": "ec114441",
   "metadata": {},
   "outputs": [],
   "source": []
  }
 ],
 "metadata": {
  "kernelspec": {
   "display_name": "Python 3 (ipykernel)",
   "language": "python",
   "name": "python3"
  },
  "language_info": {
   "codemirror_mode": {
    "name": "ipython",
    "version": 3
   },
   "file_extension": ".py",
   "mimetype": "text/x-python",
   "name": "python",
   "nbconvert_exporter": "python",
   "pygments_lexer": "ipython3",
   "version": "3.10.7"
  }
 },
 "nbformat": 4,
 "nbformat_minor": 5
}
