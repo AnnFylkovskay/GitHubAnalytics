{
  "nbformat": 4,
  "nbformat_minor": 0,
  "metadata": {
    "colab": {
      "provenance": [],
      "collapsed_sections": [],
      "authorship_tag": "ABX9TyPtRTIjvxTMtn8bUOzRWGgp",
      "include_colab_link": true
    },
    "kernelspec": {
      "name": "python3",
      "display_name": "Python 3"
    },
    "language_info": {
      "name": "python"
    }
  },
  "cells": [
    {
      "cell_type": "markdown",
      "metadata": {
        "id": "view-in-github",
        "colab_type": "text"
      },
      "source": [
        "<a href=\"https://colab.research.google.com/github/AnnFylkovskay/GitHubAnalytics/blob/main/%D0%9B%D0%B0%D0%B1%D0%BE%D1%80%D0%B0%D1%82%D0%BE%D1%80%D0%BD%D1%8B%D0%B5_%D1%80%D0%B0%D0%B1%D0%BE%D1%82%D1%8B_%D0%A4%D1%8F%D0%BB%D0%BA%D0%BE%D0%B2%D1%81%D0%BA%D0%B0%D1%8F_%D0%90_%22Fylkovskaya_ipynb%22.ipynb\" target=\"_parent\"><img src=\"https://colab.research.google.com/assets/colab-badge.svg\" alt=\"Open In Colab\"/></a>"
      ]
    },
    {
      "cell_type": "markdown",
      "source": [
        "**Лабораторная работа №1. Знакомство со средой**"
      ],
      "metadata": {
        "id": "9r-PFNbH40MJ"
      }
    },
    {
      "cell_type": "markdown",
      "source": [
        "**Задание №1. Знакомство**"
      ],
      "metadata": {
        "id": "7bEgogz-Sm9u"
      }
    },
    {
      "cell_type": "code",
      "source": [
        "print ('Привет, Мир!')\n",
        "print ('Приянтно познакомиться!')"
      ],
      "metadata": {
        "colab": {
          "base_uri": "https://localhost:8080/"
        },
        "id": "9ebsQnSTTGx4",
        "outputId": "aa024ec0-1630-4b07-a16c-51c067b019aa"
      },
      "execution_count": null,
      "outputs": [
        {
          "output_type": "stream",
          "name": "stdout",
          "text": [
            "Привет, Мир!\n",
            "Приянтно познакомиться!\n"
          ]
        }
      ]
    },
    {
      "cell_type": "markdown",
      "source": [
        "**Задание №2. Бит или не бит?**"
      ],
      "metadata": {
        "id": "Xs34cHEwTZnX"
      }
    },
    {
      "cell_type": "code",
      "source": [
        "print ('1 Бит - минимальная единица количества информации.')\n",
        "print ('1 Байт = 8 бит.')\n",
        "print (\"1 Килобит = 1024 бита.\")\n",
        "print (\"1 Килобайт = 1024 байта.\")\n",
        "ХХХХ = 1024*8\n",
        "print (\"1 Килобайт =\", ХХХХ, \"бит\")"
      ],
      "metadata": {
        "colab": {
          "base_uri": "https://localhost:8080/"
        },
        "id": "j3pWEUUqU67m",
        "outputId": "1615673a-bed6-44ef-8087-49d77ee05389"
      },
      "execution_count": null,
      "outputs": [
        {
          "output_type": "stream",
          "name": "stdout",
          "text": [
            "1 Бит - минимальная единица количества информации.\n",
            "1 Байт = 8 бит.\n",
            "1 Килобит = 1024 бита.\n",
            "1 Килобайт = 1024 байта.\n",
            "1 Килобайт = 8192 бит\n"
          ]
        }
      ]
    },
    {
      "cell_type": "markdown",
      "source": [
        "**Задание 3. Гороскоп**"
      ],
      "metadata": {
        "id": "QaW2MAAoWVcr"
      }
    },
    {
      "cell_type": "code",
      "source": [
        "name = input()\n",
        "surname = input()\n",
        "animal = input()\n",
        "zodiac = input()\n",
        "print ('Индивидуальный гороскоп для пользователя:', name, surname)\n",
        "print ('Кем вы были в прошлой жизни:', animal)\n",
        "print ('Ваш знак зодиака - ', zodiac, ', поэтому вы - тонко чувствующая натура.')"
      ],
      "metadata": {
        "colab": {
          "base_uri": "https://localhost:8080/"
        },
        "id": "CuJsKM_VWktW",
        "outputId": "da272bd2-c923-47f3-a18c-b221bbdcb19f"
      },
      "execution_count": null,
      "outputs": [
        {
          "output_type": "stream",
          "name": "stdout",
          "text": [
            "Анна\n",
            "Фялковская\n",
            "кошка\n",
            "лев\n",
            "Индивидуальный гороскоп для пользователя Анна Фялковская\n",
            "Кем вы были в прошлой жизни: кошка\n",
            "Ваш знак зодиака -  лев , поэтому вы - тонко чувствующая натура.\n"
          ]
        }
      ]
    },
    {
      "cell_type": "markdown",
      "source": [
        "**Самостоятельная работа**\n",
        "*Задание. Билетная касса*"
      ],
      "metadata": {
        "id": "27526UXBYV7g"
      }
    },
    {
      "cell_type": "code",
      "execution_count": null,
      "metadata": {
        "colab": {
          "base_uri": "https://localhost:8080/"
        },
        "id": "eIYOD0Jw4Zmn",
        "outputId": "529e69c6-7c3a-4493-b185-1c1e1f5ddfde"
      },
      "outputs": [
        {
          "output_type": "stream",
          "name": "stdout",
          "text": [
            "\"Смерть на Ниле\"\n",
            "Маяк\n",
            "18:15\n",
            "Билет на \"Смерть на Ниле\" в Кристалл  на  18:00 забронирован\n"
          ]
        }
      ],
      "source": [
        "sinema = (input())\n",
        "theatre = (input())\n",
        "time = (input())\n",
        "\n",
        "print(\"Билет на\" , a, \"в\", b, \" на \", c, \"забронирован\")\n"
      ]
    },
    {
      "cell_type": "markdown",
      "source": [
        "**Лабораторная работа №2**"
      ],
      "metadata": {
        "id": "yg5HfrQf8SYq"
      }
    },
    {
      "cell_type": "markdown",
      "source": [
        "**Задание №1. Только Питон!**"
      ],
      "metadata": {
        "id": "jjBTiBHpZ3i1"
      }
    },
    {
      "cell_type": "code",
      "source": [
        "word = input()\n",
        "if word == 'Python':\n",
        "  print ('ДА')\n",
        "else:\n",
        "  print ('НЕТ')"
      ],
      "metadata": {
        "colab": {
          "base_uri": "https://localhost:8080/"
        },
        "id": "ETMPLOyGZ9Is",
        "outputId": "2907ea7b-9fc9-45b5-8487-7cdebaf3590b"
      },
      "execution_count": null,
      "outputs": [
        {
          "output_type": "stream",
          "name": "stdout",
          "text": [
            "Python\n",
            "ДА\n"
          ]
        }
      ]
    },
    {
      "cell_type": "markdown",
      "source": [
        "**Задание №2. Да или нет?!**"
      ],
      "metadata": {
        "id": "mOxlPDdv_vip"
      }
    },
    {
      "cell_type": "code",
      "source": [
        "word1 = input()\n",
        "word2 = input()\n",
        "\n",
        "if (word1 ==\"да\" or word1 ==\"нет\") and (word2==\"да\" or word2==\"нет\"):\n",
        " print('ВЕРНО')\n",
        "else:\n",
        " print('НЕВЕРНО') "
      ],
      "metadata": {
        "colab": {
          "base_uri": "https://localhost:8080/"
        },
        "id": "6IE1iMAA8K3S",
        "outputId": "d3c8eac9-5e9f-429c-9dbd-26875045995f"
      },
      "execution_count": null,
      "outputs": [
        {
          "output_type": "stream",
          "name": "stdout",
          "text": [
            "ДА\n",
            "НАВЕРНОЕ\n",
            "НЕВЕРНО\n"
          ]
        }
      ]
    },
    {
      "cell_type": "markdown",
      "source": [
        "**Задание №3. Ёлочка, гори!**"
      ],
      "metadata": {
        "id": "9legiGr5_4OD"
      }
    },
    {
      "cell_type": "code",
      "source": [
        "a = input()\n",
        "b = input()\n",
        "c = input()\n",
        "if (a==\"Раз\") and (b==\"Два\") and (c==\"Три\"):\n",
        " print('ГОРИ')\n",
        "else:\n",
        " print('НЕ ГОРИ') "
      ],
      "metadata": {
        "colab": {
          "base_uri": "https://localhost:8080/"
        },
        "id": "zu-zdghn_vBa",
        "outputId": "2103229b-77d9-4750-9acf-d4716162ef87"
      },
      "execution_count": null,
      "outputs": [
        {
          "output_type": "stream",
          "name": "stdout",
          "text": [
            "Один\n",
            "2\n",
            "3\n",
            "ГОРИ\n"
          ]
        }
      ]
    },
    {
      "cell_type": "markdown",
      "source": [
        "**Задание №4. Телеграммы**"
      ],
      "metadata": {
        "id": "nk7x0SFX45vp"
      }
    },
    {
      "cell_type": "code",
      "source": [
        "s = input ()\n",
        "length = len(s) * 40\n",
        "print (str(length // 100) + ' р. '+ str(length % 100) + ' коп.')"
      ],
      "metadata": {
        "colab": {
          "base_uri": "https://localhost:8080/"
        },
        "id": "HxepS8wbcaa9",
        "outputId": "da2d831c-61b0-4d09-a7c3-11b0d5b712c9"
      },
      "execution_count": null,
      "outputs": [
        {
          "output_type": "stream",
          "name": "stdout",
          "text": [
            "Привет, как дела?\n",
            "6 р. 80 коп.\n"
          ]
        }
      ]
    },
    {
      "cell_type": "markdown",
      "source": [
        "**Задание №5. Сложить два  числа**"
      ],
      "metadata": {
        "id": "A7RtPAFgdtLJ"
      }
    },
    {
      "cell_type": "code",
      "source": [
        "a = int (input())\n",
        "b = int (input())\n",
        "print (a+b)"
      ],
      "metadata": {
        "colab": {
          "base_uri": "https://localhost:8080/"
        },
        "id": "BiG2NJ51dzxw",
        "outputId": "4cfa6907-22af-464e-b7d4-cdb691ff2881"
      },
      "execution_count": null,
      "outputs": [
        {
          "output_type": "stream",
          "name": "stdout",
          "text": [
            "4\n",
            "5\n",
            "9\n"
          ]
        }
      ]
    },
    {
      "cell_type": "markdown",
      "source": [
        "**Самостоятельная работа.**"
      ],
      "metadata": {
        "id": "q41QX4RVeMK5"
      }
    },
    {
      "cell_type": "markdown",
      "source": [
        "**Задание №1. Ёлочка-2**"
      ],
      "metadata": {
        "id": "RVziMUtXeUOg"
      }
    },
    {
      "cell_type": "code",
      "source": [
        "a = input()\n",
        "b = input()\n",
        "c = input()\n",
        "if (a==\"Раз\" or a==\"1\") and (b==\"Два\" or b==\"2\") and (c==\"Три\" or c==\"3\"):\n",
        " print('ГОРИ')\n",
        "else:\n",
        " print('НЕ ГОРИ') "
      ],
      "metadata": {
        "id": "Pc8Aq8SReZvT"
      },
      "execution_count": null,
      "outputs": []
    },
    {
      "cell_type": "markdown",
      "source": [
        "**Задание №2. Ёлочка-3**"
      ],
      "metadata": {
        "id": "sS6pOYb8eydD"
      }
    },
    {
      "cell_type": "code",
      "source": [
        "a = input()\n",
        "b = input()\n",
        "c = input()\n",
        "if (a==\"Раз\" or a==\"1\" or a==\"Один\") and (b==\"Два\" or b==\"2\") and (c==\"Три\" or c==\"3\"):\n",
        " print('ГОРИ')\n",
        "else:\n",
        " print('НЕ ГОРИ') "
      ],
      "metadata": {
        "id": "SxyZ8xBQe5hR"
      },
      "execution_count": null,
      "outputs": []
    },
    {
      "cell_type": "markdown",
      "source": [
        "**Задание №3. Регистрация почты**"
      ],
      "metadata": {
        "id": "UuSRYNCDfDWU"
      }
    },
    {
      "cell_type": "code",
      "source": [
        "login = input()\n",
        "\n",
        "print(\"Проверка пройдена\" if \"@\" not in login else \"Проверка не пройдена\")\n",
        "\n",
        "email = input()\n",
        "\n",
        "print (\"Проверка пройдена\" if \"@\" in email else \"Проверка не пройдена\")\n"
      ],
      "metadata": {
        "colab": {
          "base_uri": "https://localhost:8080/"
        },
        "id": "nyGhkXAhAkny",
        "outputId": "eb2a10dd-212d-476c-f1b2-ce583636f715"
      },
      "execution_count": null,
      "outputs": [
        {
          "output_type": "stream",
          "name": "stdout",
          "text": [
            "1@125\n",
            "Проверка не пройдена\n",
            "111111\n",
            "Проверка не пройдена\n"
          ]
        }
      ]
    },
    {
      "cell_type": "markdown",
      "source": [
        "**Задание №4.Длина**"
      ],
      "metadata": {
        "id": "TJEFH1pLCxLq"
      }
    },
    {
      "cell_type": "code",
      "source": [
        "word = input()\n",
        "\n",
        "print ('Слово:' , word, 'имеет длину', str(len(word)))"
      ],
      "metadata": {
        "id": "0KnId83BCadJ",
        "colab": {
          "base_uri": "https://localhost:8080/"
        },
        "outputId": "1c165c21-ad68-4f1b-ff47-5e3e87463c2c"
      },
      "execution_count": null,
      "outputs": [
        {
          "output_type": "stream",
          "name": "stdout",
          "text": [
            "Как поживаешь?\n",
            "Слово Как поживаешь? имеет длину 14\n"
          ]
        }
      ]
    },
    {
      "cell_type": "markdown",
      "source": [
        "**Задание №5. Каникулы капризного ребенка**"
      ],
      "metadata": {
        "id": "jU9bSJywgfZM"
      }
    },
    {
      "cell_type": "code",
      "source": [
        "city1 = input()\n",
        "city2 = input()\n",
        "\n",
        "if (city1==\"Тула\" or city1 ==\"Пенза\") and (city2==\"Тула\" or city2==\"Пенза\"):\n",
        " print('НЕ ПОДХОДИТ')\n",
        "else:\n",
        " print('ПОДХОДИТ') "
      ],
      "metadata": {
        "colab": {
          "base_uri": "https://localhost:8080/"
        },
        "id": "xKjtHbS6glqb",
        "outputId": "8e165d8f-2a81-464e-9583-bfed51a53151"
      },
      "execution_count": null,
      "outputs": [
        {
          "output_type": "stream",
          "name": "stdout",
          "text": [
            "Тула\n",
            "Омск\n",
            "ПОДХОДИТ\n"
          ]
        }
      ]
    },
    {
      "cell_type": "markdown",
      "source": [
        "**Задание №6. Сложить еще два числа**"
      ],
      "metadata": {
        "id": "Nw5TpObGhe2y"
      }
    },
    {
      "cell_type": "code",
      "source": [
        "a = float (input())\n",
        "b = float (input())\n",
        "print (a+b)"
      ],
      "metadata": {
        "colab": {
          "base_uri": "https://localhost:8080/"
        },
        "id": "_bZGB64hhkBy",
        "outputId": "ad0bb7d0-5173-488d-8eb4-186a5857819e"
      },
      "execution_count": null,
      "outputs": [
        {
          "output_type": "stream",
          "name": "stdout",
          "text": [
            "4.5\n",
            "3.2\n",
            "7.7\n"
          ]
        }
      ]
    },
    {
      "cell_type": "markdown",
      "source": [
        "**Задание №7. На раз-два-три, рассчитайтесь!**"
      ],
      "metadata": {
        "id": "i5e93OSeh8LX"
      }
    },
    {
      "cell_type": "code",
      "source": [
        "Petr = int(input())\n",
        "Vasiliy = int(input())\n",
        "Dima = int(input())\n",
        " \n",
        "if Petr > Vasiliy > Dima:\n",
        "        print('Петя',Petr)\n",
        "        print('Вася',Vasiliy)\n",
        "        print('Дима',Dima)\n",
        "    \n",
        "elif Petr > Dima > Vasiliy:\n",
        "        print('Петя',Petr)\n",
        "        print('Дима',Dima)\n",
        "        print('Вася',Vasiliy)\n",
        "    \n",
        "elif Vasiliy > Petr > Dima:\n",
        "        print('Вася',Vasiliy)\n",
        "        print('Петя',Petr)\n",
        "        print('Дима',Dima)\n",
        "    \n",
        "elif Vasiliy > Dima > Petr:\n",
        "        print('Вася',Vasiliy)\n",
        "        print('Дима',Dima)\n",
        "        print('Петя',Petr)\n",
        "    \n",
        "elif Dima > Petr > Vasiliy:\n",
        "        print('Дима',Dima)\n",
        "        print('Петя',Petr)\n",
        "        print('Вася',Vasiliy)\n",
        "    \n",
        "elif Dima > Vasiliy > Petr:\n",
        "        print('Дима',Dima)\n",
        "        print('Вася', Vasiliy)\n",
        "        print('Петя',Petr)\n",
        "        \n",
        "elif Petr == Vasiliy == Dima:\n",
        "        print('Вася', Vasiliy)\n",
        "        print('Дима', Dima)\n",
        "        print('Петя', Petr)\n"
      ],
      "metadata": {
        "colab": {
          "base_uri": "https://localhost:8080/"
        },
        "id": "OwdmYcmTiNMb",
        "outputId": "f3d9f88a-e513-4ea8-b900-11e3568b6cd2"
      },
      "execution_count": null,
      "outputs": [
        {
          "output_type": "stream",
          "name": "stdout",
          "text": [
            "160\n",
            "150\n",
            "118\n",
            "Петя 160\n",
            "Вася 150\n",
            "Дима 118\n"
          ]
        }
      ]
    },
    {
      "cell_type": "markdown",
      "source": [
        "**Задание №8. Собери число**"
      ],
      "metadata": {
        "id": "f9luZ5q6lA_k"
      }
    },
    {
      "cell_type": "code",
      "source": [
        "a = int(input('Исходный пароль: '))\n",
        "b = a // 100 + (a % 100) // 10\n",
        "c = (a % 100) // 10 + a % 10\n",
        "d = str(c) + str(b) if c > b else str(b) + str(c)\n",
        "print('Зашифрованный пароль: ', d)"
      ],
      "metadata": {
        "colab": {
          "base_uri": "https://localhost:8080/"
        },
        "id": "S9XL0_4PlH8e",
        "outputId": "7c38cbbd-c173-4a83-b2c4-4eaa8f6eefa4"
      },
      "execution_count": null,
      "outputs": [
        {
          "output_type": "stream",
          "name": "stdout",
          "text": [
            "Исходный пароль: 167\n",
            "Зашифрованный пароль:  137\n"
          ]
        }
      ]
    },
    {
      "cell_type": "markdown",
      "source": [
        "**Задание №9. Плюс-минус**"
      ],
      "metadata": {
        "id": "UCt2i29KlWcR"
      }
    },
    {
      "cell_type": "code",
      "source": [
        "a = float (input())\n",
        "\n",
        "if (a > 0):\n",
        " print (\"+\")\n",
        "elif (a == 0):\n",
        "  print (\"0\")\n",
        "elif (a < 0):\n",
        "  print (\"-\")  \n"
      ],
      "metadata": {
        "colab": {
          "base_uri": "https://localhost:8080/"
        },
        "id": "FSmsVRLBlapT",
        "outputId": "a0e56ba0-faab-4d65-f2ca-6798a95e3381"
      },
      "execution_count": null,
      "outputs": [
        {
          "output_type": "stream",
          "name": "stdout",
          "text": [
            "-0.5\n",
            "-\n"
          ]
        }
      ]
    },
    {
      "cell_type": "markdown",
      "source": [
        "**Практическая работа №3. Знакомство с циклом while и отладчик**"
      ],
      "metadata": {
        "id": "QCyZ3tnFr-rP"
      }
    },
    {
      "cell_type": "markdown",
      "source": [
        "**Задание. Скидки**"
      ],
      "metadata": {
        "id": "In4THNq7sbou"
      }
    },
    {
      "cell_type": "code",
      "source": [
        "sum = 0\n",
        "number = float(input())\n",
        "while number > 0:\n",
        "  if number > 1000:\n",
        "    number = number * 0.95\n",
        "  sum += number\n",
        "  number = float (input())\n",
        "  print (sum)"
      ],
      "metadata": {
        "colab": {
          "base_uri": "https://localhost:8080/"
        },
        "id": "UXp78G7zsg9v",
        "outputId": "423d10da-f201-4293-ca2d-057d627d6463"
      },
      "execution_count": null,
      "outputs": [
        {
          "output_type": "stream",
          "name": "stdout",
          "text": [
            "341\n",
            "12\n",
            "341.0\n",
            "2000\n",
            "353.0\n",
            "1\n",
            "2253.0\n",
            "1500\n",
            "2254.0\n",
            "-1\n",
            "3679.0\n"
          ]
        }
      ]
    },
    {
      "cell_type": "markdown",
      "source": [
        "**Самостоятельная работа.**"
      ],
      "metadata": {
        "id": "B-JnVlYittNh"
      }
    },
    {
      "cell_type": "markdown",
      "source": [
        "**Задание 1. password123**"
      ],
      "metadata": {
        "id": "uLialSqbtxe-"
      }
    },
    {
      "cell_type": "code",
      "source": [
        "password1 = input()\n",
        "\n",
        "if len(password1) < 8:\n",
        "  print('Короткий') \n",
        "else:\n",
        "    print(\"Введите пароль повторно\")\n",
        "    password2 = input()\n",
        "    \n",
        "    if password2 == password1:\n",
        "        print(\"OK\")\n",
        "    \n",
        "    else:\n",
        "        print(\"Различаются!\")"
      ],
      "metadata": {
        "colab": {
          "base_uri": "https://localhost:8080/"
        },
        "id": "C9X0RJpnuOVp",
        "outputId": "676b632d-eeeb-431c-a513-fc33a6a7d0fe"
      },
      "execution_count": null,
      "outputs": [
        {
          "output_type": "stream",
          "name": "stdout",
          "text": [
            "12345678\n",
            "Введите пароль повторно\n",
            "1234567\n",
            "Различаются!\n"
          ]
        }
      ]
    },
    {
      "cell_type": "markdown",
      "source": [
        "**Задание 2. Учитель**"
      ],
      "metadata": {
        "id": "gZ2pbqJevhYh"
      }
    },
    {
      "cell_type": "code",
      "source": [
        "money = int(input())\n",
        " \n",
        "while money > 7:\n",
        "    money = money // 8\n",
        "print(money)"
      ],
      "metadata": {
        "colab": {
          "base_uri": "https://localhost:8080/"
        },
        "id": "SZY9o_TdvldX",
        "outputId": "3d50bfaa-6919-4ea7-a302-3801a5dd2ff9"
      },
      "execution_count": null,
      "outputs": [
        {
          "output_type": "stream",
          "name": "stdout",
          "text": [
            "129\n",
            "2\n"
          ]
        }
      ]
    },
    {
      "cell_type": "markdown",
      "source": [
        "**Задание 3. Таких берут в космонавты**"
      ],
      "metadata": {
        "id": "t0_1VQ3MyMMT"
      }
    },
    {
      "cell_type": "code",
      "source": [
        "height = 0\n",
        "applicants = 0\n",
        "min = 150\n",
        "max = 190\n",
        "while True:\n",
        "    height = input()\n",
        "    if height == \"!\":\n",
        "        print('Количество подходящих кандидатур:', applicants) \n",
        "        print('Минимальный рост:', min, 'Максимальный рост:', max)\n",
        "        break\n",
        "    else:\n",
        "        if 190 >= int(height) >= 150:\n",
        "            applicants = applicants + 1\n",
        "            if int(height) > int(min):\n",
        "                min = height\n",
        "            if int(height) < int(max):\n",
        "                max = height\n",
        "                "
      ],
      "metadata": {
        "colab": {
          "base_uri": "https://localhost:8080/"
        },
        "id": "kmpgt2mByvDE",
        "outputId": "f0dfd1c2-25d8-46db-d142-ee18a344dfd9"
      },
      "execution_count": null,
      "outputs": [
        {
          "output_type": "stream",
          "name": "stdout",
          "text": [
            "158\n",
            "165\n",
            "197\n",
            "145\n",
            "!\n",
            "Количество подходящих кандидатур: 2\n",
            "Минимальный рост: 165 Максимальный рост: 158\n"
          ]
        }
      ]
    },
    {
      "cell_type": "markdown",
      "source": [
        "**Задание 4. 1024 и все-все-все**"
      ],
      "metadata": {
        "id": "OD7w3USa64KS"
      }
    },
    {
      "cell_type": "code",
      "source": [
        "number = int(input())\n",
        "b = 0\n",
        "while number != 1:\n",
        "    if number % 2 != 0:\n",
        "        print('НЕТ')\n",
        "        break\n",
        "    number //= 2\n",
        "    b += 1\n",
        "else:\n",
        "    print(b)"
      ],
      "metadata": {
        "colab": {
          "base_uri": "https://localhost:8080/"
        },
        "id": "LiA7sLXJ7RbV",
        "outputId": "45616c9d-39ae-40ae-9c1d-196f09265b08"
      },
      "execution_count": null,
      "outputs": [
        {
          "output_type": "stream",
          "name": "stdout",
          "text": [
            "4\n",
            "2\n"
          ]
        }
      ]
    },
    {
      "cell_type": "markdown",
      "source": [
        "**Задание 5. Ним-пасьянс**"
      ],
      "metadata": {
        "id": "LEmbPKhc89te"
      }
    },
    {
      "cell_type": "code",
      "source": [
        "stones = int(input())\n",
        "\n",
        "while stones !=0:\n",
        "  take = int(input())\n",
        "  if take <= stones:\n",
        "    stones = stones - take \n",
        "    print ('Осталось камней:', stones)\n",
        "  elif take >= stones:\n",
        "    min = take - stones \n",
        "    print ('Возьмите меньше. Камней в куче меньше на:', min)\n",
        "  else:\n",
        "     print ('Камни в куче закончились!') \n",
        "\n"
      ],
      "metadata": {
        "colab": {
          "base_uri": "https://localhost:8080/"
        },
        "id": "9N03QVeS8_bS",
        "outputId": "407ce0fa-407b-486f-ef92-9464f3492026"
      },
      "execution_count": null,
      "outputs": [
        {
          "output_type": "stream",
          "name": "stdout",
          "text": [
            "100\n",
            "20\n",
            "Осталось камней: 80\n",
            "90\n",
            "Возьмите меньше. Камней в куче меньше на: 10\n",
            "80\n",
            "Осталось камней: 0\n"
          ]
        }
      ]
    },
    {
      "cell_type": "markdown",
      "source": [
        "**Задание 6. Псевдоним-пасьянс**"
      ],
      "metadata": {
        "id": "R2JoQXx9GNeg"
      }
    },
    {
      "cell_type": "code",
      "source": [
        "stones = int(input())\n",
        "\n",
        "while stones !=0:\n",
        " take = int(input()) \n",
        " if take <= stones and take <=3:\n",
        "    stones = stones - take \n",
        "    print ('Осталось камней:', stones) \n",
        " elif take >= stones:\n",
        "    min = take - stones \n",
        "    print ('Возьмите меньше. Камней в куче меньше на:', min)\n",
        "    print ('Осталось камней:', stones)\n",
        "    print ('За один ход можно взять не более 3 камней')  \n",
        " elif take > 3:\n",
        "  print ('Возьмите меньше. За один ход нельзя брать больше 3 камней')\n",
        "  print ('Осталось камней:', stones)\n",
        " elif  take < 1:\n",
        "   print ('Осталось камней:', stones) \n",
        "else:\n",
        "     print ('Камни в куче закончились!') "
      ],
      "metadata": {
        "colab": {
          "base_uri": "https://localhost:8080/"
        },
        "id": "1CFVmZ5kGRBf",
        "outputId": "39cf39e1-6620-4514-c0cd-ca1cc8359dce"
      },
      "execution_count": null,
      "outputs": [
        {
          "output_type": "stream",
          "name": "stdout",
          "text": [
            "10\n",
            "5\n",
            "Возьмите меньше. За один ход нельзя брать больше 3 камней\n",
            "Осталось камней: 10\n",
            "3\n",
            "Осталось камней: 7\n",
            "3\n",
            "Осталось камней: 4\n",
            "3\n",
            "Осталось камней: 1\n",
            "1\n",
            "Осталось камней: 0\n",
            "Камни в куче закончились!\n"
          ]
        }
      ]
    },
    {
      "cell_type": "markdown",
      "source": [
        "**Задание 7. Фибоначчи**"
      ],
      "metadata": {
        "id": "THARQj4qJa4E"
      }
    },
    {
      "cell_type": "code",
      "source": [
        "limit = int(input())\n",
        "fib1 = 1\n",
        "fib2 = 1\n",
        "print(fib2)\n",
        "summ = fib1 + fib2\n",
        "while fib2 <= limit:\n",
        "    print(fib2)\n",
        "    summ = fib1 + fib2\n",
        "    fib1 = fib2\n",
        "    fib2 = summ"
      ],
      "metadata": {
        "colab": {
          "base_uri": "https://localhost:8080/"
        },
        "id": "9x419XSFJMgp",
        "outputId": "a7fbac04-e491-4495-adde-f184deab042c"
      },
      "execution_count": null,
      "outputs": [
        {
          "output_type": "stream",
          "name": "stdout",
          "text": [
            "50\n",
            "1\n",
            "1\n",
            "2\n",
            "3\n",
            "5\n",
            "8\n",
            "13\n",
            "21\n",
            "34\n"
          ]
        }
      ]
    },
    {
      "cell_type": "markdown",
      "source": [
        "**Практическая работа №4. Знакомство с циклом for. True и False, break и continue. И вложенные циклы**"
      ],
      "metadata": {
        "id": "dgo5Vg4-KvrE"
      }
    },
    {
      "cell_type": "markdown",
      "source": [
        "**Задание №1. Факториал**"
      ],
      "metadata": {
        "id": "IWMkSVfRK1IS"
      }
    },
    {
      "cell_type": "code",
      "source": [
        "n = int(input())\n",
        "fact = 1\n",
        "for i in range(n):\n",
        " fact = fact * (i+1)\n",
        "print (fact) "
      ],
      "metadata": {
        "colab": {
          "base_uri": "https://localhost:8080/"
        },
        "id": "fryQ0BYuK4nb",
        "outputId": "645a3b57-989b-4222-eb47-2b98cf62297d"
      },
      "execution_count": null,
      "outputs": [
        {
          "output_type": "stream",
          "name": "stdout",
          "text": [
            "5\n",
            "120\n"
          ]
        }
      ]
    },
    {
      "cell_type": "markdown",
      "source": [
        "**Задание 2. 1984.**"
      ],
      "metadata": {
        "id": "JSyEjRULLq9b"
      }
    },
    {
      "cell_type": "code",
      "source": [
        "flag = True\n",
        "n = int (input())\n",
        "for i in range(n):\n",
        "  str = input()\n",
        "  if (str == 'С кем война?'):\n",
        "    if flag:\n",
        "      print('Евразия')\n",
        "    else:\n",
        "      print ('Останазия')\n",
        "  if (str == 'С кем мир?'):\n",
        "    if not flag:\n",
        "      print('Евразия')\n",
        "    else:\n",
        "      print('Останазия')\n",
        "  if (str == 'Меняем'):\n",
        "    flag = not flag \n",
        "  if (str == \"Мир\"):\n",
        "    break  "
      ],
      "metadata": {
        "colab": {
          "base_uri": "https://localhost:8080/"
        },
        "id": "QhHdg5gdLtwY",
        "outputId": "d64696ed-1b92-436b-ef19-9ed66f686d53"
      },
      "execution_count": null,
      "outputs": [
        {
          "name": "stdout",
          "output_type": "stream",
          "text": [
            "5\n",
            "С кем мир?\n",
            "Останазия\n",
            "С кем война?\n",
            "Евразия\n",
            "Мир\n"
          ]
        }
      ]
    },
    {
      "cell_type": "markdown",
      "source": [
        "**Задание 3. Рисуем прямоугольник.**"
      ],
      "metadata": {
        "id": "ODvPRd4DQgwx"
      }
    },
    {
      "cell_type": "code",
      "source": [
        "w = int (input())\n",
        "h = int (input())\n",
        "s = int (input())\n",
        "for i in range(1, w + 1, 1):\n",
        "  for j in range(1, h + 1, 1):\n",
        "    if i == 1 or j == 1 or i == w or j == h:\n",
        "      print (s, end='')\n",
        "    else:\n",
        "      print (' ', end='')\n",
        "  print()"
      ],
      "metadata": {
        "colab": {
          "base_uri": "https://localhost:8080/"
        },
        "id": "RaHgb-N4QiQq",
        "outputId": "ab4b9d1d-456f-477a-b2a3-4053578bc7e0"
      },
      "execution_count": null,
      "outputs": [
        {
          "output_type": "stream",
          "name": "stdout",
          "text": [
            "8\n",
            "8\n",
            "8\n",
            "88888888\n",
            "8      8\n",
            "8      8\n",
            "8      8\n",
            "8      8\n",
            "8      8\n",
            "8      8\n",
            "88888888\n"
          ]
        }
      ]
    },
    {
      "cell_type": "markdown",
      "source": [
        "**Самостоятельная работа**"
      ],
      "metadata": {
        "id": "-PSh0nzLR7Kr"
      }
    },
    {
      "cell_type": "markdown",
      "source": [
        "**Задание 1. Пирамида.**"
      ],
      "metadata": {
        "id": "n1qXrEriR_7G"
      }
    },
    {
      "cell_type": "code",
      "source": [
        "size = int(input())\n",
        "i=1\n",
        "pyramid = size + (size - 1)\n",
        "for i in range(1, size + 1):\n",
        "    print(\"{0:^{1}.{2}}\".format(\"*\"*(i+(i-1)), width, width))"
      ],
      "metadata": {
        "colab": {
          "base_uri": "https://localhost:8080/"
        },
        "id": "qMkI-KszSCki",
        "outputId": "faf14e0e-6e0d-4693-b664-135076ba2779"
      },
      "execution_count": null,
      "outputs": [
        {
          "output_type": "stream",
          "name": "stdout",
          "text": [
            "10\n",
            "         *         \n",
            "        ***        \n",
            "       *****       \n",
            "      *******      \n",
            "     *********     \n",
            "    ***********    \n",
            "   *************   \n",
            "  ***************  \n",
            " ***************** \n",
            "*******************\n"
          ]
        }
      ]
    },
    {
      "cell_type": "markdown",
      "source": [
        "**Задание 2. Дзета-функция Римана.**"
      ],
      "metadata": {
        "id": "Iz8-I3JxSn9h"
      }
    },
    {
      "cell_type": "code",
      "source": [
        "n = int(input())\n",
        "a = 0\n",
        "pi = 3.141592653589793\n",
        "for i in range(1, n + 1):\n",
        "    a += 1 / (i ** 2)\n",
        "print((p ** 2) / a)"
      ],
      "metadata": {
        "colab": {
          "base_uri": "https://localhost:8080/"
        },
        "id": "hqkDvY4fTdFn",
        "outputId": "1337823d-8e4d-4952-d2e3-eac9048bcc41"
      },
      "execution_count": null,
      "outputs": [
        {
          "output_type": "stream",
          "name": "stdout",
          "text": [
            "80\n",
            "6.04565553525267\n"
          ]
        }
      ]
    },
    {
      "cell_type": "markdown",
      "source": [
        "**Задание 3. Найди кота.**"
      ],
      "metadata": {
        "id": "cvFOYLE1UHDA"
      }
    },
    {
      "cell_type": "code",
      "source": [
        "word = ''\n",
        "n = 0\n",
        "cat = -1\n",
        "i = 1\n",
        "while word != 'СТОП':\n",
        "    word = input()\n",
        "    if 'Кот' in word or 'кот' in word:\n",
        "        n += 1\n",
        "    if ('Кот' in word or 'кот' in word) and cat == -1:\n",
        "        cat = i\n",
        "    i += 1\n",
        "print(n, cat)"
      ],
      "metadata": {
        "colab": {
          "base_uri": "https://localhost:8080/"
        },
        "id": "v-nN0xCRUrnJ",
        "outputId": "574bc849-bbb9-46a6-bb2d-de9901c5e3d8"
      },
      "execution_count": null,
      "outputs": [
        {
          "output_type": "stream",
          "name": "stdout",
          "text": [
            "пирожок\n",
            "кот\n",
            "подушка\n",
            "принц\n",
            "кот\n",
            "СТОП\n",
            "2 2\n"
          ]
        }
      ]
    },
    {
      "cell_type": "markdown",
      "source": [
        "**Задание 4. Биржевой робот.**"
      ],
      "metadata": {
        "id": "hhfBo-w2VPjy"
      }
    },
    {
      "cell_type": "code",
      "source": [
        "price1 = int(input())\n",
        "price2 = int(input())\n",
        "in_stock = False\n",
        "while price2 != 0:\n",
        "    if in_stock == False:\n",
        "        if price1 < price2:\n",
        "            inprice = price2\n",
        "            in_stock = True\n",
        "    if in_stock == True:\n",
        "        if price1 > price2:\n",
        "            outprice = price2\n",
        "            break\n",
        "    price1 = price2\n",
        "    price2 = int(input())\n",
        "print(inprice, outprice, outprice - inprice)\n"
      ],
      "metadata": {
        "colab": {
          "base_uri": "https://localhost:8080/"
        },
        "id": "h-aRIn9lVjRn",
        "outputId": "9de632bc-3afa-40a6-8601-118ab662977b"
      },
      "execution_count": null,
      "outputs": [
        {
          "output_type": "stream",
          "name": "stdout",
          "text": [
            "150\n",
            "180\n",
            "100\n",
            "180 100 -80\n"
          ]
        }
      ]
    },
    {
      "cell_type": "markdown",
      "source": [
        "**Задание 5. Школа танцев.**"
      ],
      "metadata": {
        "id": "DXSl6DiCWAwg"
      }
    },
    {
      "cell_type": "code",
      "source": [
        "num = int(input())\n",
        "onetwo = ['раз', 'два', 'три', 'четыре']\n",
        "jum = 0\n",
        "while num > 0:\n",
        "    for i in range(4):\n",
        "        word = input()\n",
        "        if word != onetwo[i]:\n",
        "            print('Правильных отсчётов было', jum, ', но теперь вы ошиблись.')\n",
        "            jum = 0\n",
        "            num -= 1\n",
        "            break\n",
        "        jum += 1\n",
        "print('На сегодня хватит.')"
      ],
      "metadata": {
        "colab": {
          "base_uri": "https://localhost:8080/"
        },
        "id": "3gMka1M3WD-2",
        "outputId": "f9dfec69-0904-47bd-a985-0a41fd012560"
      },
      "execution_count": null,
      "outputs": [
        {
          "output_type": "stream",
          "name": "stdout",
          "text": [
            "5\n",
            "раз\n",
            "два\n",
            "три\n",
            "четыре\n",
            "пять\n",
            "Правильных отсчётов было 4 , но теперь вы ошиблись.\n",
            "раз два\n",
            "Правильных отсчётов было 0 , но теперь вы ошиблись.\n",
            "раз два\n",
            "Правильных отсчётов было 0 , но теперь вы ошиблись.\n",
            "один\n",
            "Правильных отсчётов было 0 , но теперь вы ошиблись.\n",
            "два\n",
            "Правильных отсчётов было 0 , но теперь вы ошиблись.\n",
            "На сегодня хватит.\n"
          ]
        }
      ]
    },
    {
      "cell_type": "markdown",
      "source": [
        "**Задание 6. Логистический максимин.**"
      ],
      "metadata": {
        "id": "dmoFOvEaVj4b"
      }
    },
    {
      "cell_type": "code",
      "source": [
        "number = int(input())\n",
        "maximum = 0\n",
        "road = 1\n",
        "for element in range(number):\n",
        "    tunnel = int(input())\n",
        "    m = 100000000\n",
        "    for element_2 in range(tunnel):\n",
        "        height = int(input())\n",
        "        if m > height:\n",
        "            m = height\n",
        "    if maximum < m:\n",
        "        maximum = m\n",
        "        road = element + 1\n",
        "print(road, maximum)"
      ],
      "metadata": {
        "colab": {
          "base_uri": "https://localhost:8080/"
        },
        "id": "u7ljmvX9VmY0",
        "outputId": "4f57676c-8385-4efd-ccca-b279dc98c7ad"
      },
      "execution_count": null,
      "outputs": [
        {
          "output_type": "stream",
          "name": "stdout",
          "text": [
            "2\n",
            "2\n",
            "2\n",
            "2\n",
            "1\n",
            "2\n",
            "1 2\n"
          ]
        }
      ]
    },
    {
      "cell_type": "markdown",
      "source": [
        "**Задание 7. Простые числа на миллион долларов.**"
      ],
      "metadata": {
        "id": "x5g6hJtkVoqw"
      }
    },
    {
      "cell_type": "code",
      "source": [
        "num = int(input())\n",
        "lst = []\n",
        "k = 0\n",
        "for i in range(2, num):\n",
        "    for j in range(2, i):\n",
        "        if i % j == 0:\n",
        "            k = k + 1\n",
        "    if k == 0:\n",
        "        lst.append(i)    \n",
        "    else:\n",
        "        k = 0\n",
        "for x in lst:\n",
        "    print(x)"
      ],
      "metadata": {
        "colab": {
          "base_uri": "https://localhost:8080/"
        },
        "id": "njsXcC6IVrfG",
        "outputId": "e6cd07f5-15cb-4302-cd48-551e9d4d0783"
      },
      "execution_count": null,
      "outputs": [
        {
          "output_type": "stream",
          "name": "stdout",
          "text": [
            "20\n",
            "2\n",
            "3\n",
            "5\n",
            "7\n",
            "11\n",
            "13\n",
            "17\n",
            "19\n"
          ]
        }
      ]
    }
  ]
}