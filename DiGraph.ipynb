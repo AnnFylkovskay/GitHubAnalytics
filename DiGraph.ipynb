{
 "cells": [
  {
   "cell_type": "code",
   "execution_count": 21,
   "id": "fcb50020",
   "metadata": {},
   "outputs": [
    {
     "name": "stdout",
     "output_type": "stream",
     "text": [
      "DiGraph with 2 nodes and 1 edges\n",
      "Nodes: ['X', 'Y']\n",
      "Edges: [('X', 'Y')]\n",
      "\n",
      "X props: {}\n",
      "Y props: {}\n",
      "\n",
      "X=>Y props: {}\n",
      "\n",
      "X props: {'propl': 'valuel'}\n",
      "\n",
      "X=>Y props: {'label': 'label1'}\n"
     ]
    }
   ],
   "source": [
    "import networkx as nx\n",
    "\n",
    "g = nx.DiGraph()\n",
    "\n",
    "g.add_edge('X', 'Y')\n",
    "\n",
    "print(nx.info(g))\n",
    "\n",
    "print(\"Nodes:\", g.nodes())\n",
    "print (\"Edges:\", g.edges())\n",
    "print()\n",
    "\n",
    "print(\"X props:\", g.nodes['X'])\n",
    "print(\"Y props:\", g.nodes['Y'])\n",
    "print()\n",
    "                         \n",
    "print(\"X=>Y props:\", g['X']['Y'])\n",
    "print()\n",
    "\n",
    "g.nodes['X'].update({'propl' : 'valuel'})\n",
    "print(\"X props:\", g.nodes['X'])\n",
    "print()\n",
    "\n",
    "g['X']['Y'].update({'label' : 'label1'})\n",
    "print(\"X=>Y props:\", g['X']['Y'])\n",
    "                         \n",
    "\n",
    "                         \n"
   ]
  },
  {
   "cell_type": "code",
   "execution_count": null,
   "id": "61b3c876",
   "metadata": {},
   "outputs": [],
   "source": []
  }
 ],
 "metadata": {
  "kernelspec": {
   "display_name": "Python 3 (ipykernel)",
   "language": "python",
   "name": "python3"
  },
  "language_info": {
   "codemirror_mode": {
    "name": "ipython",
    "version": 3
   },
   "file_extension": ".py",
   "mimetype": "text/x-python",
   "name": "python",
   "nbconvert_exporter": "python",
   "pygments_lexer": "ipython3",
   "version": "3.10.7"
  }
 },
 "nbformat": 4,
 "nbformat_minor": 5
}
